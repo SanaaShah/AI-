{
 "cells": [
  {
   "cell_type": "code",
   "execution_count": 3,
   "metadata": {},
   "outputs": [
    {
     "name": "stdout",
     "output_type": "stream",
     "text": [
      "0    4\n",
      "1    7\n",
      "2   -5\n",
      "3    3\n",
      "dtype: int64\n"
     ]
    }
   ],
   "source": [
    "import pandas as pd\n",
    "obj = pd.Series([4, 7, -5, 3])\n",
    "print(obj)\n",
    "#we get values and index at same time"
   ]
  },
  {
   "cell_type": "code",
   "execution_count": 7,
   "metadata": {},
   "outputs": [
    {
     "name": "stdout",
     "output_type": "stream",
     "text": [
      "[100   2 100 400]\n",
      "Index(['a', 'b', 'c', 'd'], dtype='object')\n"
     ]
    }
   ],
   "source": [
    "sales = pd.Series([100, 2, 100, 400], index = ['a', 'b' ,'c', 'd'], name='4 month sales')\n",
    "print(sales.values) # will print only vales\n",
    "print(sales.index)"
   ]
  },
  {
   "cell_type": "code",
   "execution_count": 8,
   "metadata": {},
   "outputs": [
    {
     "name": "stdout",
     "output_type": "stream",
     "text": [
      "a    100\n",
      "b      2\n",
      "c    100\n",
      "d    400\n",
      "Name: 4 month sales, dtype: int64\n"
     ]
    }
   ],
   "source": [
    "print(sales) #jo name rakha hai wo column header use hoga"
   ]
  },
  {
   "cell_type": "code",
   "execution_count": 11,
   "metadata": {},
   "outputs": [
    {
     "name": "stdout",
     "output_type": "stream",
     "text": [
      "2\n",
      "2\n",
      "b      2\n",
      "c    100\n",
      "Name: 4 month sales, dtype: int64\n"
     ]
    }
   ],
   "source": [
    "#data access\n",
    "print(sales[1])\n",
    "print(sales['b']) #by using the index\n",
    "print(sales[[1,2]]) # ek square braket sales aur dusra multiple values "
   ]
  },
  {
   "cell_type": "markdown",
   "metadata": {},
   "source": [
    "# Now we need to store mutli dimension data\n",
    "* We can store multiple columns\n",
    "* Can access data by row and colunm\n",
    "* Index should be same if we want to merge two series"
   ]
  },
  {
   "cell_type": "code",
   "execution_count": 15,
   "metadata": {},
   "outputs": [
    {
     "name": "stdout",
     "output_type": "stream",
     "text": [
      "   apples  banana\n",
      "0       1       3\n",
      "1       2       2\n",
      "2       3       1\n"
     ]
    }
   ],
   "source": [
    "ap = pd.Series([1,2,3])\n",
    "bn = pd.Series([3,2,1])\n",
    "data = {'apples': ap, 'banana': bn}\n",
    "frame = pd.DataFrame(data)\n",
    "print(frame)"
   ]
  },
  {
   "cell_type": "code",
   "execution_count": 17,
   "metadata": {},
   "outputs": [
    {
     "data": {
      "text/plain": [
       "0    1\n",
       "1    2\n",
       "2    3\n",
       "Name: apples, dtype: int64"
      ]
     },
     "execution_count": 17,
     "metadata": {},
     "output_type": "execute_result"
    }
   ],
   "source": [
    "# accessing the data\n",
    "frame['apples'] # dictionery like notation\n",
    "frame.apples # attribute like"
   ]
  },
  {
   "cell_type": "code",
   "execution_count": 21,
   "metadata": {},
   "outputs": [
    {
     "data": {
      "text/plain": [
       "apples    2\n",
       "banana    2\n",
       "Name: 1, dtype: int64"
      ]
     },
     "execution_count": 21,
     "metadata": {},
     "output_type": "execute_result"
    }
   ],
   "source": [
    "frame.loc[1]"
   ]
  },
  {
   "cell_type": "code",
   "execution_count": null,
   "metadata": {},
   "outputs": [],
   "source": []
  }
 ],
 "metadata": {
  "kernelspec": {
   "display_name": "Python 3",
   "language": "python",
   "name": "python3"
  },
  "language_info": {
   "codemirror_mode": {
    "name": "ipython",
    "version": 3
   },
   "file_extension": ".py",
   "mimetype": "text/x-python",
   "name": "python",
   "nbconvert_exporter": "python",
   "pygments_lexer": "ipython3",
   "version": "3.7.3"
  }
 },
 "nbformat": 4,
 "nbformat_minor": 2
}
